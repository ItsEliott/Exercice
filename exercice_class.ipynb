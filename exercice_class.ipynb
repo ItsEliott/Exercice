{
 "cells": [
  {
   "cell_type": "code",
   "execution_count": null,
   "id": "6a81daef",
   "metadata": {},
   "outputs": [
    {
     "name": "stdout",
     "output_type": "stream",
     "text": [
      "[1] Faire du velo - Fini\n",
      "[2] Faire la cuisine - Pas fini\n"
     ]
    }
   ],
   "source": [
    "class Task:\n",
    "\n",
    "    def __init__(self,  numero , description):\n",
    "        self.numero = numero \n",
    "        self.description=  description\n",
    "        self.statut = 'Pas fini'\n",
    "    \n",
    "    def complete(self):\n",
    "        self.statut = 'Fini'\n",
    "\n",
    "    def modifier(self, nouvelle_description):\n",
    "        self.description = nouvelle_description\n",
    "\n",
    "    def __str__(self):\n",
    "        return (f\"[{self.numero}] {self.description} - {self.statut}\")\n",
    "    \n",
    "\n",
    "class ToDoList: \n",
    "\n",
    "    def __init__(self):\n",
    "        self.tasks=[]\n",
    "        self.compteur = 1 \n",
    "\n",
    "    def ajouter_tache(self , description) :\n",
    "        task = Task(self.compteur , description )\n",
    "        self.tasks.append(task)\n",
    "        self.compteur +=1\n",
    "\n",
    "    def completer_tache(self , numero ):\n",
    "        for task in self.tasks:\n",
    "            if task.numero == numero:\n",
    "                task.complete()\n",
    "                return (f\"Tache {numero} complétée \")\n",
    "        return (f\"Tache {numero} introuvable\")\n",
    "    \n",
    "    def modifier_tache(self , numero , nouvelle_description ):\n",
    "\n",
    "        for task in self.tasks:\n",
    "            if task.numero == numero:\n",
    "                task.modifier(nouvelle_description)\n",
    "                return (f\"Tache {numero} modifiée \")\n",
    "        return (f\"Tache {numero} introuvable \")\n",
    "    \n",
    "    def afficher (self):\n",
    "        if not self.tasks:\n",
    "            print(\"La ToDoListe est vide \")\n",
    "\n",
    "        else:\n",
    "            for task in self.tasks:\n",
    "                print(task)\n",
    "\n",
    "\n",
    "tdl=ToDoList()\n",
    "\n",
    "tdl.ajouter_tache(\"Faire du velo\")\n",
    "\n",
    "tdl.completer_tache(1)\n",
    "\n",
    "tdl.afficher()\n"
   ]
  },
  {
   "cell_type": "code",
   "execution_count": null,
   "id": "c15f7331",
   "metadata": {},
   "outputs": [],
   "source": []
  }
 ],
 "metadata": {
  "kernelspec": {
   "display_name": "Python 3",
   "language": "python",
   "name": "python3"
  },
  "language_info": {
   "codemirror_mode": {
    "name": "ipython",
    "version": 3
   },
   "file_extension": ".py",
   "mimetype": "text/x-python",
   "name": "python",
   "nbconvert_exporter": "python",
   "pygments_lexer": "ipython3",
   "version": "3.11.9"
  }
 },
 "nbformat": 4,
 "nbformat_minor": 5
}
